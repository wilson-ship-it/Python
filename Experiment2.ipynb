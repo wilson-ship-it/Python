{
  "nbformat": 4,
  "nbformat_minor": 0,
  "metadata": {
    "colab": {
      "provenance": []
    },
    "kernelspec": {
      "name": "python3",
      "display_name": "Python 3"
    },
    "language_info": {
      "name": "python"
    }
  },
  "cells": [
    {
      "cell_type": "code",
      "execution_count": 7,
      "metadata": {
        "colab": {
          "base_uri": "https://localhost:8080/"
        },
        "id": "rEs9Yj6-HfqZ",
        "outputId": "7a807470-4183-43ec-ad15-46dd048dff66"
      },
      "outputs": [
        {
          "output_type": "stream",
          "name": "stdout",
          "text": [
            "Enter your agew\n",
            "please enter digits\n"
          ]
        }
      ],
      "source": [
        "#task 1\n",
        "#Create a Python program that asks the user for their age.Implement conditional statements to check the following: If the user is below 18,\n",
        "# print \"You are a minor.\" If the user is between 18 and 65, print \"You are an adult.\" If the user is above 65, print \"You are a senior.\"\n",
        "# Add a check for invalid input (e.g., user enters a non-numeric value).\n",
        "\n",
        "age=input(\"Enter your age\")\n",
        "if not age.isdigit():\n",
        "  print(\"please enter digits\")\n",
        "else:\n",
        "  age=int(age)\n",
        "  if(age<18):\n",
        "    print(\"you are minor\")\n",
        "  elif(age>=18 and age<=65):\n",
        "    print(\"You are adult\")\n",
        "  else:\n",
        "    print(\"You are senior\")\n"
      ]
    },
    {
      "cell_type": "code",
      "source": [
        "#task 2\n",
        "#Multiplication till 12 numbers\n",
        "n=int(input(\"Enter a number\"))\n",
        "for i in range(12):\n",
        "  print(f\"{n} X {i+1}={n*(i+1)}\")"
      ],
      "metadata": {
        "colab": {
          "base_uri": "https://localhost:8080/"
        },
        "id": "RDth34meKI-5",
        "outputId": "8398c151-2057-4bb7-8739-b42cac6a7d34"
      },
      "execution_count": 9,
      "outputs": [
        {
          "output_type": "stream",
          "name": "stdout",
          "text": [
            "Enter a number9\n",
            "9 X 1=9\n",
            "9 X 2=18\n",
            "9 X 3=27\n",
            "9 X 4=36\n",
            "9 X 5=45\n",
            "9 X 6=54\n",
            "9 X 7=63\n",
            "9 X 8=72\n",
            "9 X 9=81\n",
            "9 X 10=90\n",
            "9 X 11=99\n",
            "9 X 12=108\n"
          ]
        }
      ]
    },
    {
      "cell_type": "code",
      "source": [
        "#task 3\n",
        "#Valid Password Maker\n",
        "while(1):\n",
        "  p=input(\"Enter your Password: \")\n",
        "  special=\"!@#$%^&*()-_=+[{]}\\\\|;:'\\\",<.>/?`~\"\n",
        "  upper=0\n",
        "  digit=0\n",
        "  s=0;\n",
        "\n",
        "  for i in p:\n",
        "    if i in special:\n",
        "      s=1\n",
        "\n",
        "  for i in p:\n",
        "    if(i.upper):\n",
        "      upper=1\n",
        "\n",
        "  for i in p:\n",
        "    if(i.isdigit()):\n",
        "      digit=1\n",
        "\n",
        "  if(len(p)>=8 and upper and digit and s):\n",
        "    print(\"Password is valid\")\n",
        "    break\n",
        "  else:\n",
        "    print(\"Password is not valid\")\n",
        "\n"
      ],
      "metadata": {
        "colab": {
          "base_uri": "https://localhost:8080/"
        },
        "id": "oyfOUIXoKxgD",
        "outputId": "8bed048d-9a0c-48c2-dbc9-cfc75386fcde"
      },
      "execution_count": 15,
      "outputs": [
        {
          "output_type": "stream",
          "name": "stdout",
          "text": [
            "Enter your Password: Billu@123\n",
            "Password is valid\n"
          ]
        }
      ]
    },
    {
      "cell_type": "code",
      "source": [
        "#task 4\n",
        "iiit_ranchi_structure = {\n",
        "    \"Visitor\": {\n",
        "        \"Board of Governors\": {\n",
        "            \"Finance Committee\": {\n",
        "                \"Registrar\": {\n",
        "                    \"Joint Registrar/Deputy Registrar\": {\n",
        "                        \"Assistant Registrar\": []\n",
        "                    }\n",
        "                },\n",
        "                \"Associate Dean Faculty Affairs\": [],\n",
        "                \"Associate Dean Academic Affairs\": {\n",
        "                    \"Examination Coordinator\": []\n",
        "                },\n",
        "                \"Associate Dean R&D\": [],\n",
        "                \"Associate Dean Student Affairs\": []\n",
        "            },\n",
        "            \"Building & Works Committee\": {},\n",
        "            \"Director\": {\n",
        "                \"HOD - CSE/ECE/Sciences/Humanities and Management\": {\n",
        "                    \"CSE\": {\n",
        "                        \"Assistant Professors\": [\"Dr. A. Sharma\", \"Dr. B. Verma\"]\n",
        "                    },\n",
        "                    \"ECE\": {\n",
        "                        \"Assistant Professors\": [\"Dr. C. Singh\", \"Dr. D. Kumar\"]\n",
        "                    },\n",
        "                    \"Humanities\": {\n",
        "                        \"Assistant Professors\": [\"Dr. E. Gupta\", \"Dr. F. Yadav\"]\n",
        "                    }\n",
        "                },\n",
        "                \"Chief Warden\": {\n",
        "                    \"Hostel Warden\": []\n",
        "                },\n",
        "                \"FIC\": [],\n",
        "                \"Coordinators - Training & Placement, Institute Website and Email Services, ERP\": []\n",
        "            },\n",
        "            \"Senate\": {\n",
        "                \"Professor\": {\n",
        "                    \"Associate Professor\": {\n",
        "                        \"Assistant Professor\": []\n",
        "                    }\n",
        "                }\n",
        "            }\n",
        "        }\n",
        "    }\n",
        "}\n",
        "\n",
        "def search_assistant_professor(name, org_structure, current_path=\"\"):\n",
        "    for key, value in org_structure.items():\n",
        "        new_path = f\"{current_path} > {key}\" if current_path else key\n",
        "\n",
        "        if isinstance(value, dict):\n",
        "            result = search_assistant_professor(name, value, new_path)\n",
        "            if result:\n",
        "                return result\n",
        "        elif isinstance(value, list):\n",
        "            if name in value:\n",
        "                # Extract department from path\n",
        "                path_parts = new_path.split(' > ')\n",
        "                for dept in [\"CSE\", \"ECE\", \"Humanities\"]:\n",
        "                    if dept in path_parts:\n",
        "                        return dept\n",
        "                return \"Unknown Department\"\n",
        "    return None\n",
        "\n",
        "# Example usage\n",
        "prof_name = input(\"Enter the name of the Assistant Professor: \")\n",
        "\n",
        "department = search_assistant_professor(prof_name, iiit_ranchi_structure)\n",
        "\n",
        "if department:\n",
        "    print(f\"Assistant Professor '{prof_name}' belongs to the '{department}' department.\")\n",
        "else:\n",
        "    print(f\"Assistant Professor '{prof_name}' was not found in the structure.\")\n",
        "\n",
        "\n"
      ],
      "metadata": {
        "colab": {
          "base_uri": "https://localhost:8080/"
        },
        "id": "o6ZrvzU7R6Ge",
        "outputId": "14e38974-f5b2-4740-b828-c22df2c29765"
      },
      "execution_count": 20,
      "outputs": [
        {
          "output_type": "stream",
          "name": "stdout",
          "text": [
            "Enter the name of the Assistant Professor: Dr. A. Sharma\n",
            "Assistant Professor 'Dr. A. Sharma' belongs to the 'CSE' department.\n"
          ]
        }
      ]
    },
    {
      "cell_type": "code",
      "source": [
        "#task 5\n",
        "\n",
        "import matplotlib.pyplot as plt\n",
        "\n",
        "# Sales data (in thousands)\n",
        "sales_data = [25, 32, 29, 35, 41, 40, 45, 38, 50, 55, 60, 70]\n",
        "\n",
        "# Initialize variables\n",
        "total_sales = 0\n",
        "max_sales = sales_data[0]\n",
        "max_month_index = 0\n",
        "\n",
        "# Calculate total sales, find max sales and its month\n",
        "for i in range(len(sales_data)):\n",
        "    total_sales += sales_data[i]\n",
        "\n",
        "    if sales_data[i] > max_sales:\n",
        "        max_sales = sales_data[i]\n",
        "        max_month_index = i\n",
        "\n",
        "# Calculate average sales\n",
        "average_sales = total_sales / len(sales_data)\n",
        "\n",
        "print(f\"Total Sales: {total_sales}k\")\n",
        "print(f\"Average Monthly Sales: {average_sales:.2f}k\")\n",
        "print(f\"Highest Sales Month: Month {max_month_index + 1} with {max_sales}k\")\n",
        "\n",
        "# Plotting the sales data\n",
        "months = [f\"Month {i+1}\" for i in range(12)]\n",
        "\n",
        "plt.figure(figsize=(12, 6))\n",
        "bars = plt.bar(months, sales_data, color='skyblue')\n",
        "\n",
        "# Highlight the month with highest sales\n",
        "bars[max_month_index].set_color('orange')\n",
        "\n",
        "plt.title(\"Monthly Sales Data (in Thousands)\")\n",
        "plt.xlabel(\"Month\")\n",
        "plt.ylabel(\"Sales (in thousands)\")\n",
        "plt.xticks(rotation=45)\n",
        "plt.grid(axis='y', linestyle='--', alpha=0.7)\n",
        "\n",
        "# Annotate the highest sales bar\n",
        "plt.text(max_month_index, max_sales + 1, f\"Max: {max_sales}k\",\n",
        "         ha='center', fontweight='bold', color='red')\n",
        "\n",
        "plt.tight_layout()\n",
        "plt.show()\n"
      ],
      "metadata": {
        "colab": {
          "base_uri": "https://localhost:8080/",
          "height": 659
        },
        "id": "ihFUQoFUPEwz",
        "outputId": "16a20d78-fe02-4098-cea9-4daf53fb0156"
      },
      "execution_count": 14,
      "outputs": [
        {
          "output_type": "stream",
          "name": "stdout",
          "text": [
            "Total Sales: 520k\n",
            "Average Monthly Sales: 43.33k\n",
            "Highest Sales Month: Month 12 with 70k\n"
          ]
        },
        {
          "output_type": "display_data",
          "data": {
            "text/plain": [
              "<Figure size 1200x600 with 1 Axes>"
            ],
            "image/png": "[encoded data removed]"
          },
          "metadata": {}
        }
      ]
    }
  ]
}