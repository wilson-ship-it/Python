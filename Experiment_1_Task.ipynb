{
  "nbformat": 4,
  "nbformat_minor": 0,
  "metadata": {
    "colab": {
      "provenance": []
    },
    "kernelspec": {
      "name": "python3",
      "display_name": "Python 3"
    },
    "language_info": {
      "name": "python"
    }
  },
  "cells": [
    {
      "cell_type": "code",
      "execution_count": null,
      "metadata": {
        "colab": {
          "base_uri": "https://localhost:8080/"
        },
        "id": "DFQyUYyGG5kS",
        "outputId": "417801b7-9f81-44dc-f403-8bade141f6a3"
      },
      "outputs": [
        {
          "output_type": "stream",
          "name": "stdout",
          "text": [
            "Enter value of a:1\n",
            "Enter value of b:5\n",
            "before swpping a=1 b=5\n",
            "after swpping a=5 b=1\n"
          ]
        }
      ],
      "source": [
        "#Task 1\n",
        "a=input(\"Enter value of a:\")\n",
        "b=input(\"Enter value of b:\")\n",
        "print(f\"before swpping a={a} b={b}\")\n",
        "a,b=b,a\n",
        "print(f\"after swpping a={a} b={b}\")"
      ]
    },
    {
      "cell_type": "code",
      "source": [
        "#Task 2\n",
        "math=input(\"Enter marks of maths:\")\n",
        "cs=input(\"Enter marks of cs:\")\n",
        "eng=input(\"Enter marks of English:\")\n",
        "dsa=input(\"Enter marks of DSA:\")\n",
        "total=float(math)+float(cs)+float(eng)+float(dsa)\n",
        "avg=total/4\n",
        "if(avg>=90):\n",
        "    print(f\"Grade A and avg={avg}\")\n",
        "elif(avg>=80 and avg<90):\n",
        "    print(f\"Grade B and avg={avg}\")\n",
        "elif(avg>=70 and avg<80):\n",
        "    print(f\"Grade C and avg={avg}\")\n",
        "elif(avg>=60 and avg<70):\n",
        "    print(f\"Grade D and avg={avg}\")\n",
        "else:\n",
        "    print(f\"Grade E and avg={avg}\")"
      ],
      "metadata": {
        "colab": {
          "base_uri": "https://localhost:8080/"
        },
        "id": "5TeTx8OoIZOl",
        "outputId": "9d65050a-94d4-4af2-9c0c-bcbf0c58e97d"
      },
      "execution_count": null,
      "outputs": [
        {
          "output_type": "stream",
          "name": "stdout",
          "text": [
            "Enter marks of maths:69\n",
            "Enter marks of cs:100\n",
            "Enter marks of English:32\n",
            "Enter marks of DSA:89\n",
            "Grade C and avg=72.5\n"
          ]
        }
      ]
    },
    {
      "cell_type": "code",
      "source": [
        "#Task 3\n",
        "l=input(\"Enter the length of rectangle:\")\n",
        "b=input(\"Enter the breadth of rectangle:\")\n",
        "print(f\"Area of rectangle is {float(l)*float(b)} units\")\n",
        "print(f\"Perimeter of rectangle is {2*(float(l)+float(b))} units\")"
      ],
      "metadata": {
        "colab": {
          "base_uri": "https://localhost:8080/"
        },
        "id": "D9F1lB_EJzzs",
        "outputId": "c820deb0-29e0-4d52-cf22-f1645db64a0c"
      },
      "execution_count": null,
      "outputs": [
        {
          "output_type": "stream",
          "name": "stdout",
          "text": [
            "Enter the length of rectangle:2\n",
            "Enter the breadth of rectangle:4\n",
            "Area of rectangle is 8.0 units\n",
            "Perimeter of rectangle is 12.0 units\n"
          ]
        }
      ]
    },
    {
      "cell_type": "code",
      "source": [
        "#Task 4\n",
        "a=complex(input(\"Enter a 1st complex number:\"))\n",
        "b=complex(input(\"Enter a 2nd complex number:\"))\n",
        "print(f\"Addition is {a+b}\")\n",
        "print(f\"Subtraction is {a-b}\")\n",
        "print(f\"Multiplication is {a*b}\")"
      ],
      "metadata": {
        "colab": {
          "base_uri": "https://localhost:8080/"
        },
        "id": "AnGNX_7ZK24b",
        "outputId": "11de73f4-3c18-4fc6-c5ae-e8ede8eeba61"
      },
      "execution_count": null,
      "outputs": [
        {
          "output_type": "stream",
          "name": "stdout",
          "text": [
            "Enter a 1st complex number:2+3j\n",
            "Enter a 2nd complex number:2+1j\n",
            "Addition of (2+3j) and (2+1j) is (4+4j)\n",
            "Subtraction of (2+3j) and (2+1j) is 2j\n",
            "Multiplication of (2+3j) and (2+1j) is (1+8j)\n"
          ]
        }
      ]
    },
    {
      "cell_type": "code",
      "source": [
        "#Task 5\n",
        "c=input(\"Enter temp in degree:\")\n",
        "far=(float(c)*(9/5))+32\n",
        "print(f\"Temp in Farahnite is {far}\")\n",
        "f=input(\"Enter temp in Farahnite:\")\n",
        "cel=(float(f)-32)*5/9\n",
        "print(f\"Temp in celcius is {cel}\")"
      ],
      "metadata": {
        "colab": {
          "base_uri": "https://localhost:8080/"
        },
        "id": "mY_ggSmRM7QV",
        "outputId": "5ce7615f-0218-4ba8-90c1-8595c1b4c725"
      },
      "execution_count": null,
      "outputs": [
        {
          "output_type": "stream",
          "name": "stdout",
          "text": [
            "Enter temp in degree:2\n",
            "Temp in Farahnite is 35.6\n",
            "Enter temp in Farahnite:124\n",
            "Temp in celcius is 51.111111111111114\n"
          ]
        }
      ]
    }
  ]
}